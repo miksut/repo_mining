{
 "cells": [
  {
   "cell_type": "markdown",
   "metadata": {},
   "source": [
    "# IPFS: A Software Evolution Perspective\n",
    "In this assignment, we analyze the [Go implementation of IPFS](https://github.com/ipfs/go-ipfs) from a software quality perspective. The focus lies especially on:\n",
    " - Complexity Hotspots\n",
    " - Temporal/Logical Coupling\n",
    " - Defective Hotspots\n",
    " \n",
    "For this task, we use the [PyDriller framework](https://pydriller.readthedocs.io/en/latest/index.html) for mining software repositories. See the docs for an installation guide."
   ]
  },
  {
   "cell_type": "markdown",
   "metadata": {},
   "source": [
    "## Setup\n",
    "First, the necessary modules/methods are imported and the\n",
    "the repository is initialized. Further, this section is used for defining some auxiliary functions."
   ]
  },
  {
   "cell_type": "code",
   "execution_count": 70,
   "metadata": {},
   "outputs": [],
   "source": [
    "from collections import Counter, defaultdict\n",
    "from datetime import datetime\n",
    "import matplotlib.pyplot as plt\n",
    "import matplotlib.ticker as ticker\n",
    "import numpy as np\n",
    "import pickle as pkl\n",
    "from pydriller import Repository\n",
    "from pydriller.metrics.process.commits_count import CommitsCount\n",
    "from tqdm import tqdm"
   ]
  },
  {
   "cell_type": "code",
   "execution_count": 2,
   "metadata": {},
   "outputs": [],
   "source": [
    "path = 'https://github.com/ipfs/go-ipfs'\n",
    "repo = Repository(path)"
   ]
  },
  {
   "cell_type": "code",
   "execution_count": 3,
   "metadata": {},
   "outputs": [],
   "source": [
    "def printDate(datetimeObj):\n",
    "    return str(datetimeObj.day) + \"/\" + str(datetimeObj.month) + \"/\" + str(datetimeObj.year)"
   ]
  },
  {
   "cell_type": "code",
   "execution_count": 4,
   "metadata": {},
   "outputs": [],
   "source": [
    "def serialize(path, filename, data):\n",
    "    with open(path + filename + \".pkl\", 'wb') as file_out:\n",
    "        pkl.dump(data, file_out)"
   ]
  },
  {
   "cell_type": "code",
   "execution_count": 5,
   "metadata": {},
   "outputs": [],
   "source": [
    "def deserialize(path, filename):\n",
    "    with open(path + filename + \".pkl\", 'rb') as file_in:\n",
    "        return pkl.load(file_in)"
   ]
  },
  {
   "cell_type": "markdown",
   "metadata": {},
   "source": [
    "## Complexity Hotspots\n",
    "\n",
    "### Granularity\n",
    "We now perform an initial inspection of the commit history to get a coarse overview. Since operating on the entire project with PyDriller may take some time, we additionally serialize the Python data structures for the sake of re-running the script. The original commands are outcommented and can be recovered at any time."
   ]
  },
  {
   "cell_type": "code",
   "execution_count": 6,
   "metadata": {},
   "outputs": [
    {
     "name": "stderr",
     "output_type": "stream",
     "text": [
      "12702it [00:07, 1689.60it/s]\n"
     ]
    }
   ],
   "source": [
    "commitHashes = [commit.hash for commit in tqdm(repo.traverse_commits())]"
   ]
  },
  {
   "cell_type": "code",
   "execution_count": 7,
   "metadata": {},
   "outputs": [
    {
     "name": "stderr",
     "output_type": "stream",
     "text": [
      "12702it [00:07, 1729.40it/s]\n"
     ]
    }
   ],
   "source": [
    "projectInterval = [commit.committer_date for commit in tqdm(repo.traverse_commits())]"
   ]
  },
  {
   "cell_type": "code",
   "execution_count": 8,
   "metadata": {},
   "outputs": [],
   "source": [
    "#contributors = [commit.author.name for commit in tqdm(repo.traverse_commits())]\n",
    "#serialize('data/', 'projectContributors', contributors)\n",
    "contributors = deserialize('data/', 'projectContributors')"
   ]
  },
  {
   "cell_type": "code",
   "execution_count": 9,
   "metadata": {},
   "outputs": [],
   "source": [
    "#riskProfileComplexity = [commit.dmm_unit_complexity for commit in tqdm(repo.traverse_commits()) if commit.dmm_unit_complexity is not None]\n",
    "#serialize('data/', 'dmmComplexity', riskProfileComplexity)\n",
    "riskProfileComplexity = deserialize('data/', 'dmmComplexity')"
   ]
  },
  {
   "cell_type": "code",
   "execution_count": 10,
   "metadata": {},
   "outputs": [
    {
     "name": "stdout",
     "output_type": "stream",
     "text": [
      "Number of commits: 12702\n",
      "Project duration: 26/6/2014 to 23/11/2021\n"
     ]
    }
   ],
   "source": [
    "print(\"Number of commits: \" + str(len(commitHashes)))\n",
    "print(\"Project duration: \" + printDate(projectInterval[0]) + \" to \" + printDate(projectInterval[-1]))"
   ]
  },
  {
   "cell_type": "markdown",
   "metadata": {},
   "source": [
    "We now take a look at the delta maintainability metric (**DMM**) that is provided by PyDriller. This metric indicates the proportion of low-risk change in a commit w.r.t. a metric on a method level (e.g. complexity). Concretely, we consider the distribution of these DMMs over the project. The histogram shows that a considerable amount of commits represents risky changes according to the DMM. This may be a hint that there are potentially problematic files."
   ]
  },
  {
   "cell_type": "code",
   "execution_count": 11,
   "metadata": {},
   "outputs": [
    {
     "data": {
      "image/png": "[encoded data removed]",
      "text/plain": [
       "<Figure size 432x288 with 1 Axes>"
      ]
     },
     "metadata": {
      "needs_background": "light"
     },
     "output_type": "display_data"
    }
   ],
   "source": [
    "fig, ax = plt.subplots()\n",
    "ax.hist(x=riskProfileComplexity, bins=10, color='#0504aa', alpha=0.7, rwidth=0.85)\n",
    "\n",
    "ax.grid(axis='y', alpha=0.75)\n",
    "ax.set_xlabel('Complexity DMM')\n",
    "ax.set_ylabel('Frequency')\n",
    "ax.set_title('Distribution of Complexity DMM')\n",
    "plt.show()\n"
   ]
  },
  {
   "cell_type": "markdown",
   "metadata": {},
   "source": [
    "We also take a look at the change frequency of the files. The histogram indicates that a small number of files is modified very frequently. This indicates that some files might potentially be problematic entities. The 20 files with the highest change frequency are also displayed."
   ]
  },
  {
   "cell_type": "code",
   "execution_count": 12,
   "metadata": {},
   "outputs": [],
   "source": [
    "\"\"\"\n",
    "modifiedFiles = []\n",
    "\n",
    "for commit in tqdm(repo.traverse_commits()):\n",
    "    for file in commit.modified_files:\n",
    "        modifiedFiles.append(file.filename)\n",
    "\"\"\"\n",
    "modifiedFiles = deserialize('data/', 'modifiedFiles')\n",
    "fileChangeFrequency = Counter(modifiedFiles) "
   ]
  },
  {
   "cell_type": "code",
   "execution_count": 13,
   "metadata": {},
   "outputs": [
    {
     "data": {
      "image/png": "[encoded data removed]",
      "text/plain": [
       "<Figure size 432x288 with 1 Axes>"
      ]
     },
     "metadata": {
      "needs_background": "light"
     },
     "output_type": "display_data"
    }
   ],
   "source": [
    "fig, ax = plt.subplots()\n",
    "\n",
    "ax.hist(x=[fileChangeFrequency[key] for key in fileChangeFrequency], bins='auto', color='#0504aa', alpha=0.7, rwidth=0.85)\n",
    "ax.set_ylim((0, 250))\n",
    "\n",
    "ax.grid(axis='y', alpha=0.75)\n",
    "ax.set_xlabel('Change Frequency')\n",
    "ax.set_ylabel('Number of Project Files')\n",
    "ax.set_title('Distribution of Change Frequency')\n",
    "plt.show()"
   ]
  },
  {
   "cell_type": "code",
   "execution_count": 14,
   "metadata": {},
   "outputs": [
    {
     "name": "stdout",
     "output_type": "stream",
     "text": [
      "[('core.go', 685), ('main.go', 662), ('dht.go', 602), ('add.go', 564), ('bitswap.go', 529), ('interface.go', 526), ('pin.go', 524), ('README.md', 517), ('package.json', 463), ('go.sum', 435), ('go.mod', 431), ('daemon.go', 420), ('routing.go', 414), ('swarm.go', 410), ('object.go', 344), ('ls.go', 319), ('init.go', 317), ('Makefile', 310), ('Godeps.json', 269), ('gateway_handler.go', 267)]\n"
     ]
    }
   ],
   "source": [
    "print(fileChangeFrequency.most_common(20))"
   ]
  },
  {
   "cell_type": "markdown",
   "metadata": {},
   "source": [
    "Based on these considerations, our following analysis uses **source code files** as the entities of interest."
   ]
  },
  {
   "cell_type": "markdown",
   "metadata": {},
   "source": [
    "### List of Entities in v0.10.0"
   ]
  },
  {
   "cell_type": "code",
   "execution_count": 15,
   "metadata": {},
   "outputs": [],
   "source": [
    "repoV10 = Repository(path, from_tag='v0.10.0')"
   ]
  },
  {
   "cell_type": "code",
   "execution_count": 16,
   "metadata": {},
   "outputs": [
    {
     "name": "stdout",
     "output_type": "stream",
     "text": [
      "Number of entities in v0.10.0: 102\n",
      "\n",
      "CHANGELOG.md\n",
      "Dockerfile\n",
      "EARLY_TESTERS.md\n",
      "README.md\n",
      "RELEASE_ISSUE_TEMPLATE.md\n",
      "Rules.mk\n",
      "add.go\n",
      "assets_test.go\n",
      "bindata.go\n",
      "bindata_version_hash.go\n",
      "commands_test.go\n",
      "config.md\n",
      "config.yml\n",
      "daemon.go\n",
      "dag.go\n",
      "dht_test.go\n",
      "dir-index-html\n",
      "discovery.go\n",
      "dns.go\n",
      "docker-compose.yaml\n",
      "docker-image.yml\n",
      "export.go\n",
      "fetcher.go\n",
      "files.go\n",
      "fuse.go\n",
      "gateway.go\n",
      "gateway_test.go\n",
      "get.go\n",
      "go.mod\n",
      "go.sum\n",
      "hostname.go\n",
      "hostname_test.go\n",
      "id.go\n",
      "import.go\n",
      "ipfs-hardened.service\n",
      "ipfs-logo.png\n",
      "ipfs.paper.draft3.pdf\n",
      "ipfs.service\n",
      "large-k8s.toml\n",
      "levelds.go\n",
      "libp2p.go\n",
      "main.go\n",
      "main.yml\n",
      "main_test.go\n",
      "manifest.toml\n",
      "medium-k8s.toml\n",
      "metrics_test.go\n",
      "mkreleaselog\n",
      "multibase.go\n",
      "patch.go\n",
      "path_test.go\n",
      "peering.go\n",
      "peering_test.go\n",
      "peerlog.go\n",
      "peerlog_test.go\n",
      "preload.go\n",
      "preload_list\n",
      "push-docker-tags.sh\n",
      "put.go\n",
      "readonly_unix.go\n",
      "small-docker.toml\n",
      "small-k8s.toml\n",
      "snap.md\n",
      "swarm.go\n",
      "sync-release-assets.yml\n",
      "t0026-id.sh\n",
      "t0032-mount-sharded.sh\n",
      "t0040-add-and-cat.sh\n",
      "t0041-ping.sh\n",
      "t0043-add-w.sh\n",
      "t0044-add-symlink.sh\n",
      "t0051-object.sh\n",
      "t0052-object-diff.sh\n",
      "t0053-dag.sh\n",
      "t0054-dag-car-import-export.sh\n",
      "t0055-dag-put-json-new-line.sh\n",
      "t0080-repo.sh\n",
      "t0081-repo-pinning.sh\n",
      "t0090-get.sh\n",
      "t0101-iptb-name.sh\n",
      "t0110-gateway.sh\n",
      "t0115-gateway-dir-listing.sh\n",
      "t0125-twonode.sh\n",
      "t0130-multinode.sh\n",
      "t0140-swarm.sh\n",
      "t0160-resolve.sh\n",
      "t0175-reprovider.sh\n",
      "t0181-private-network.sh\n",
      "t0250-files-api.sh\n",
      "t0252-files-gc.sh\n",
      "t0260-sharding.sh\n",
      "t0270-filestore.sh\n",
      "t0271-filestore-utils.sh\n",
      "t0272-urlstore.sh\n",
      "t0280-plugin-git.sh\n",
      "t0280-plugin-peerlog.sh\n",
      "t0295-multibase.sh\n",
      "test-lib.sh\n",
      "testground-on-push.yml\n",
      "unixfs.go\n",
      "version.go\n",
      "webui.go\n"
     ]
    }
   ],
   "source": [
    "\"\"\"\n",
    "entitiesV10 = set()\n",
    "\n",
    "for commit in tqdm(repoV10.traverse_commits()):\n",
    "    for file in commit.modified_files:\n",
    "        entitiesV10.add(file.filename)\n",
    "        \n",
    "serialize('data/', 'entitiesV0.10.0', entitiesV10)\n",
    "\"\"\"\n",
    "\n",
    "entitiesV10 = list(deserialize('data/', 'entitiesV0.10.0'))\n",
    "\n",
    "print(f'Number of entities in v0.10.0: {len(entitiesV10)}\\n')\n",
    "\n",
    "for entry in sorted(entitiesV10):\n",
    "    print(entry)"
   ]
  },
  {
   "cell_type": "markdown",
   "metadata": {},
   "source": [
    "### Complexity Metric\n",
    "As a complexity metric, we use the **McCabe's cyclomatic complexity** (CC). It is a well known metric for measuring software complexity and it measures the number of independent linear paths in the code as determinded by a control flow graph. In our opinion, this seems to be the better choice than relying on metrics such as lines of code (LOC). Why? The LOC metric depends on the language as well as the programmer. This argument is relevant since ipfs-go is an open source project with a considerable number of contributors."
   ]
  },
  {
   "cell_type": "code",
   "execution_count": 17,
   "metadata": {},
   "outputs": [
    {
     "name": "stdout",
     "output_type": "stream",
     "text": [
      "Number of project contributors (including double counts): 358\n",
      "\n"
     ]
    }
   ],
   "source": [
    "print(f'Number of project contributors (including double counts): {len(set(contributors))}\\n')"
   ]
  },
  {
   "cell_type": "markdown",
   "metadata": {},
   "source": [
    "### Timeframe of the Analysis\n",
    "To decide on a timeframe, we inspect the temporal history of the project regarding the number of commits per month, the number of added and deleted lines per month, and the number of changed files per month. These information are all available via the PyDriller framework."
   ]
  },
  {
   "cell_type": "markdown",
   "metadata": {},
   "source": [
    "We observe that there is a peak in the number of commits per month as well as the number of added and deleted files per month at the beginning of the project. Our hypothesis is that this pattern is due to the higher dynamic at the early stage of the project. After this initial period, the numbers level out. When it comes to the number of changed files per month, there is another peak at a later stage in the project, indicating an increased activity.\n",
    "\n",
    "Based on these observations, our **timeframe for the analysis includes all commits between the versions v0.4.* and v0.10.0.** This choice temporally corresponds to our observations of a more steady pattern after the initial project phase. We thus focus on the state and evolution of entities in a project phase where the activity is more steady and a architectural foundation may have been laid by the project team."
   ]
  },
  {
   "cell_type": "code",
   "execution_count": 79,
   "metadata": {},
   "outputs": [],
   "source": [
    "\"\"\"\n",
    "timeline = defaultdict(list)\n",
    "\n",
    "for commit in tqdm(repo.traverse_commits()):\n",
    "    timeline[str(commit.committer_date.month) + \"/\" + str(commit.committer_date.year)].append(commit.hash)\n",
    "\n",
    "commitTimeline = {key : len(timeline[key]) for key in timeline}\n",
    "serialize('data/', 'commitTimeline', commitTimeline)\n",
    "\"\"\"\n",
    "\n",
    "commitTimeline = deserialize('data/', 'commitTimeline')"
   ]
  },
  {
   "cell_type": "code",
   "execution_count": 80,
   "metadata": {},
   "outputs": [],
   "source": [
    "\"\"\"\n",
    "modifiedLines = defaultdict(list)\n",
    "\n",
    "for commit in tqdm(repo.traverse_commits()):\n",
    "    modifiedLines[str(commit.committer_date.month) + \"/\" + str(commit.committer_date.year)].append(commit.lines)\n",
    "\n",
    "serialize('data/', 'modifiedLinesTimeline', modifiedLines)\n",
    "\"\"\"\n",
    "\n",
    "modifiedLinesTimeline = deserialize('data/', 'modifiedLinesTimeline')\n",
    "modifiedLinesTimeline = {key : sum(modifiedLinesTimeline[key]) for key in modifiedLinesTimeline}"
   ]
  },
  {
   "cell_type": "code",
   "execution_count": 81,
   "metadata": {},
   "outputs": [],
   "source": [
    "\"\"\"\n",
    "modifiedFilesTimeline = defaultdict(list)\n",
    "\n",
    "for commit in tqdm(repo.traverse_commits()):\n",
    "    modifiedFilesTimeline[str(commit.committer_date.month) + \"/\" + str(commit.committer_date.year)].append(commit.files)\n",
    "\n",
    "serialize('data/', 'modifiedFilesTimeline', modifiedFilesTimeline)\n",
    "\"\"\"\n",
    "\n",
    "modifiedFilesTimeline = deserialize('data/', 'modifiedFilesTimeline')\n",
    "modifiedFilesTimeline = {key : sum(modifiedFilesTimeline[key]) for key in modifiedFilesTimeline}"
   ]
  },
  {
   "cell_type": "code",
   "execution_count": 82,
   "metadata": {},
   "outputs": [
    {
     "data": {
      "image/png": "[encoded data removed]",
      "text/plain": [
       "<Figure size 432x288 with 1 Axes>"
      ]
     },
     "metadata": {
      "needs_background": "light"
     },
     "output_type": "display_data"
    }
   ],
   "source": [
    "fig, ax = plt.subplots()\n",
    "\n",
    "ax.bar([key for key in commitTimeline], [commitTimeline[key] for key in commitTimeline], edgecolor='white')\n",
    "ax.grid(axis='y', alpha=0.75)\n",
    "\n",
    "for i, t in enumerate(ax.get_xticklabels()):\n",
    "    if (i % 5) != 0:\n",
    "        t.set_visible(False)\n",
    "\n",
    "ax.set(xlabel='Timeline', ylabel='Number of Commits', title='Number of Commits per Month')\n",
    "plt.xticks(rotation=60)\n",
    "plt.show()\n"
   ]
  },
  {
   "cell_type": "code",
   "execution_count": 83,
   "metadata": {},
   "outputs": [
    {
     "data": {
      "image/png": "[encoded data removed]",
      "text/plain": [
       "<Figure size 432x288 with 1 Axes>"
      ]
     },
     "metadata": {
      "needs_background": "light"
     },
     "output_type": "display_data"
    }
   ],
   "source": [
    "fig, ax = plt.subplots()\n",
    "\n",
    "ax.bar([key for key in modifiedLinesTimeline], [modifiedLinesTimeline[key] for key in modifiedLinesTimeline], edgecolor='white')\n",
    "ax.grid(axis='y', alpha=0.75)\n",
    "\n",
    "for i, t in enumerate(ax.get_xticklabels()):\n",
    "    if (i % 5) != 0:\n",
    "        t.set_visible(False)\n",
    "\n",
    "tick = ticker.StrMethodFormatter('{x:,.0f}')\n",
    "ax.yaxis.set_major_formatter(tick) \n",
    "        \n",
    "ax.set(xlabel='Timeline', ylabel='Number of Lines', title='Number of Added and Deleted Lines per Month')\n",
    "plt.xticks(rotation=60)\n",
    "plt.show()\n",
    "        \n",
    "    "
   ]
  },
  {
   "cell_type": "code",
   "execution_count": 78,
   "metadata": {},
   "outputs": [
    {
     "data": {
      "image/png": "[encoded data removed]",
      "text/plain": [
       "<Figure size 432x288 with 1 Axes>"
      ]
     },
     "metadata": {
      "needs_background": "light"
     },
     "output_type": "display_data"
    }
   ],
   "source": [
    "fig, ax = plt.subplots()\n",
    "\n",
    "ax.bar([key for key in modifiedFilesTimeline], [modifiedFilesTimeline[key] for key in modifiedFilesTimeline], edgecolor='white')\n",
    "ax.grid(axis='y', alpha=0.75)\n",
    "\n",
    "for i, t in enumerate(ax.get_xticklabels()):\n",
    "    if (i % 5) != 0:\n",
    "        t.set_visible(False)\n",
    "\n",
    "tick = ticker.StrMethodFormatter('{x:,.0f}')\n",
    "ax.yaxis.set_major_formatter(tick) \n",
    "        \n",
    "ax.set(xlabel='Timeline', ylabel='Number of Files', title='Number of Changed Files per Month')\n",
    "plt.xticks(rotation=60)\n",
    "plt.show()"
   ]
  },
  {
   "cell_type": "markdown",
   "metadata": {},
   "source": [
    "### List of Hotspots\n",
    "From now on, we work with a new repo, reflecting the timeframe choice we made in the last section.\n"
   ]
  },
  {
   "cell_type": "code",
   "execution_count": 87,
   "metadata": {},
   "outputs": [],
   "source": [
    "repoAnalysis = Repository(path, from_tag='v0.4.0-rc1')"
   ]
  },
  {
   "cell_type": "code",
   "execution_count": null,
   "metadata": {},
   "outputs": [],
   "source": []
  }
 ],
 "metadata": {
  "kernelspec": {
   "display_name": "Python 3",
   "language": "python",
   "name": "python3"
  },
  "language_info": {
   "codemirror_mode": {
    "name": "ipython",
    "version": 3
   },
   "file_extension": ".py",
   "mimetype": "text/x-python",
   "name": "python",
   "nbconvert_exporter": "python",
   "pygments_lexer": "ipython3",
   "version": "3.8.5"
  }
 },
 "nbformat": 4,
 "nbformat_minor": 4
}
